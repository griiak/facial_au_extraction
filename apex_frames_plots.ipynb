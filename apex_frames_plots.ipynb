{
 "cells": [
  {
   "cell_type": "code",
   "execution_count": null,
   "metadata": {},
   "outputs": [],
   "source": [
    "\"\"\"\n",
    "This notebook shows the difference in pixel intensity in the 10\n",
    "regions of interest pre- and post-processing and visualize base\n",
    "and apex frame images.\n",
    "\"\"\""
   ]
  },
  {
   "cell_type": "code",
   "execution_count": null,
   "metadata": {},
   "outputs": [],
   "source": [
    "import glob\n",
    "import os\n",
    "import re\n",
    "import time\n",
    "\n",
    "import cv2\n",
    "import face_recognition\n",
    "import matplotlib.pyplot as plt\n",
    "import numpy as np\n",
    "import pandas as pd\n",
    "\n",
    "ROOT_FOLDER = \"\"\n",
    "SAVE_FOLDER = f\"{ROOT_FOLDER}\\Face_Analysis\"\n",
    "APEX_DATA = f\"{SAVE_FOLDER}\\Apex_frame_data.txt\""
   ]
  },
  {
   "cell_type": "code",
   "execution_count": null,
   "metadata": {},
   "outputs": [],
   "source": [
    "EXPERIMENT = 115\n",
    "BLOCK = 1\n",
    "TRIAL = 7"
   ]
  },
  {
   "cell_type": "code",
   "execution_count": null,
   "metadata": {},
   "outputs": [],
   "source": [
    "# Plot pre- and post-processed pixel intensity plots side-by-side\n",
    "with open(\n",
    "    f\"{SAVE_FOLDER}\\ROI_Diffs\\{EXPERIMENT}\\Block_{BLOCK}_Trial_{TRIAL}.npy\",\n",
    "    \"rb\",\n",
    ") as f:\n",
    "    features = np.load(f, allow_pickle=True)\n",
    "with open(\n",
    "    f\"{SAVE_FOLDER}\\Adj_ROI_Diffs\\{EXPERIMENT}\\Block_{BLOCK}_Trial_{TRIAL}.npy\",\n",
    "    \"rb\",\n",
    ") as f:\n",
    "    adj_features = np.load(f, allow_pickle=True)\n",
    "fig, ax = plt.subplots(1, 2, figsize=(15, 5))\n",
    "ax[0].plot(features)\n",
    "ax[1].plot(adj_features)"
   ]
  },
  {
   "cell_type": "code",
   "execution_count": null,
   "metadata": {},
   "outputs": [],
   "source": [
    "# Show base and apex image frames\n",
    "apex_df = pd.read_csv(APEX_DATA, header=0, sep='\\s+')\n",
    "base_frame = apex_df[(apex_df[\"Experiment\"]==EXPERIMENT) & (apex_df[\"Block\"] == BLOCK) & (apex_df[\"Trial\"]==TRIAL)][\"Start_Frame\"].values[0]\n",
    "apex_frame = apex_df[(apex_df[\"Experiment\"]==EXPERIMENT) & (apex_df[\"Block\"] == BLOCK) & (apex_df[\"Trial\"]==TRIAL)][\"Apex_Frame\"].values[0]\n",
    "print(base_frame, apex_frame)\n",
    "\n",
    "base_path = f\"{ROOT_FOLDER}\\Extracted_Frames\\\\{EXPERIMENT}\\Block_{BLOCK}\\Trial_{TRIAL}\\\\frame_{base_frame}.jpg\"\n",
    "apex_path = f\"{ROOT_FOLDER}\\Extracted_Frames\\\\{EXPERIMENT}\\Block_{BLOCK}\\Trial_{TRIAL}\\\\frame_{apex_frame}.jpg\"\n",
    "\n",
    "base_frame = cv2.imread(base_path, cv2.IMREAD_GRAYSCALE)\n",
    "apex_frame = cv2.imread(apex_path, cv2.IMREAD_GRAYSCALE)\n",
    "\n",
    "fig, ax = plt.subplots(1, 2, figsize=(20, 15))\n",
    "ax[0].imshow(base_frame[:,500:2000], cmap=\"gray\")\n",
    "ax[0].set_title(\"Base Frame in Grayscale\")\n",
    "ax[1].imshow(apex_frame[:,500:2000], cmap=\"gray\")\n",
    "ax[1].set_title(\"Apex Frame in Grayscale\")"
   ]
  },
  {
   "cell_type": "code",
   "execution_count": null,
   "metadata": {},
   "outputs": [],
   "source": [
    "# Show extracted face in apex frame\n",
    "face_locations = face_recognition.face_locations(apex_frame, number_of_times_to_upsample=0)\n",
    "max_face = 0\n",
    "max_size = -1\n",
    "for idx, face_location in enumerate(face_locations):\n",
    "    top, right, bottom, left = face_location\n",
    "    face_size = (bottom-top)*(right-left)\n",
    "    if face_size > max_size:\n",
    "        max_face = idx\n",
    "    \n",
    "top, right, bottom, left = face_locations[max_face]\n",
    "face_image = apex_frame[top:bottom, left:right]\n",
    "fig, ax = plt.subplots(1, 1, figsize=(8, 8))\n",
    "ax.imshow(face_image, cmap=\"gray\")"
   ]
  }
 ],
 "metadata": {
  "kernelspec": {
   "display_name": "ver",
   "language": "python",
   "name": "python3"
  },
  "language_info": {
   "codemirror_mode": {
    "name": "ipython",
    "version": 3
   },
   "file_extension": ".py",
   "mimetype": "text/x-python",
   "name": "python",
   "nbconvert_exporter": "python",
   "pygments_lexer": "ipython3",
   "version": "3.9.16"
  },
  "orig_nbformat": 4
 },
 "nbformat": 4,
 "nbformat_minor": 2
}
